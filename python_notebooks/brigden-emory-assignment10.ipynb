{
 "cells": [
  {
   "cell_type": "markdown",
   "id": "b5b848fc",
   "metadata": {},
   "source": [
    "# Import Stuff and CSV URL"
   ]
  },
  {
   "cell_type": "code",
   "execution_count": 109,
   "id": "e686fcc8",
   "metadata": {},
   "outputs": [],
   "source": [
    "import pandas as pd\n",
    "import altair as alt\n",
    "import pathlib"
   ]
  },
  {
   "cell_type": "code",
   "execution_count": 110,
   "id": "7d2e45a7",
   "metadata": {},
   "outputs": [],
   "source": [
    "bigfoot_url = ('https://raw.githubusercontent.com/UIUC-iSchool-DataViz/is445_bcubcg_fall2022/main/data/bfro_reports_fall2022.csv')"
   ]
  },
  {
   "cell_type": "code",
   "execution_count": 111,
   "id": "0d5a52c4",
   "metadata": {},
   "outputs": [
    {
     "data": {
      "text/plain": [
       "Index(['observed', 'location_details', 'county', 'state', 'season', 'title',\n",
       "       'latitude', 'longitude', 'date', 'number', 'classification', 'geohash',\n",
       "       'temperature_high', 'temperature_mid', 'temperature_low', 'dew_point',\n",
       "       'humidity', 'cloud_cover', 'moon_phase', 'precip_intensity',\n",
       "       'precip_probability', 'precip_type', 'pressure', 'summary', 'uv_index',\n",
       "       'visibility', 'wind_bearing', 'wind_speed', 'location'],\n",
       "      dtype='object')"
      ]
     },
     "execution_count": 111,
     "metadata": {},
     "output_type": "execute_result"
    }
   ],
   "source": [
    "bigfoot_df = pd.read_csv('https://raw.githubusercontent.com/UIUC-iSchool-DataViz/is445_bcubcg_fall2022/main/data/bfro_reports_fall2022.csv')\n",
    "bigfoot_df.columns"
   ]
  },
  {
   "cell_type": "markdown",
   "id": "dc533a38",
   "metadata": {},
   "source": [
    "# Scatter Plot"
   ]
  },
  {
   "cell_type": "code",
   "execution_count": 112,
   "id": "0a63a96c",
   "metadata": {},
   "outputs": [],
   "source": [
    "interval = alt.selection_interval()"
   ]
  },
  {
   "cell_type": "code",
   "execution_count": 113,
   "id": "e38f0715",
   "metadata": {},
   "outputs": [],
   "source": [
    "scatter = alt.Chart(bigfoot_url).mark_circle().encode(x=alt.X('longitude:Q', scale=alt.Scale(zero=False)), y=alt.Y('latitude:Q', scale=alt.Scale(zero=False)), color='season:N').add_selection(interval).properties(width=400, height=300)"
   ]
  },
  {
   "cell_type": "markdown",
   "id": "d18e8a21",
   "metadata": {},
   "source": [
    "I decided that I wanted to find out if there was a connection between location of bigfoot sightings and the season in which they happened. I started by making a scatter plot of all the sightings with longitude on the x axis and latitude on the y axis. Altair quantitative scales include zero by default, which caused the scatter plot to be zoomed out. By changing the scale's 'zero' attribute to zero, I was able to make it a little more zoomed in. I started with a point mark, but I found the circles looked better and resulted in less lag when linked to the bar plot. I used quantitative encodings for the x and y because latitude and longitude are both numeric. I used nominative for color so that the color scale would be categorical, as is appropariate for the four seasons."
   ]
  },
  {
   "cell_type": "markdown",
   "id": "7ad3fbc5",
   "metadata": {},
   "source": [
    "# Bar Plot"
   ]
  },
  {
   "cell_type": "code",
   "execution_count": 114,
   "id": "6cac12b0",
   "metadata": {},
   "outputs": [],
   "source": [
    "bar = alt.Chart(bigfoot_url).mark_bar().encode(y='season:N', x='count()', color='season:N').transform_filter(interval).properties(width=400, height=100)"
   ]
  },
  {
   "cell_type": "markdown",
   "id": "6ac75954",
   "metadata": {},
   "source": [
    "I decided that, in order to show the relationship between the scatter points' locations and the proportion of season reported, I should link the scatter to a simple bar plot. I chose to encode the seasons as nominative because they are the bar categories. I did this for both Y and color. The x is a record count, which is automatically quantitative. Also, this made the circles the same colors as the bars, which seemed nice. I initially concatenated them horizontally, but this was a bit annoying because if I selected an area that didn't have any records without unknown season, the width would change and jerk the scatter plot to the left. There is probably a way to avoid this, but I thought the vertical concatenation with a horizontal bar plot was an adequate solution.\n",
    "\n",
    "I found that summer is generally the most popular season for bigfoot sightings. However, I did notice that in warmer places, like the south, fall and winter are much more popular. I found that in some southern regions, fall is more popular than summer."
   ]
  },
  {
   "cell_type": "markdown",
   "id": "0dec633f",
   "metadata": {},
   "source": [
    "# Dashboard"
   ]
  },
  {
   "cell_type": "code",
   "execution_count": 115,
   "id": "33f13abc",
   "metadata": {
    "scrolled": true
   },
   "outputs": [
    {
     "data": {
      "text/html": [
       "\n",
       "<div id=\"altair-viz-ae20404be2734a0d9cdf8f7d33cdca6e\"></div>\n",
       "<script type=\"text/javascript\">\n",
       "  var VEGA_DEBUG = (typeof VEGA_DEBUG == \"undefined\") ? {} : VEGA_DEBUG;\n",
       "  (function(spec, embedOpt){\n",
       "    let outputDiv = document.currentScript.previousElementSibling;\n",
       "    if (outputDiv.id !== \"altair-viz-ae20404be2734a0d9cdf8f7d33cdca6e\") {\n",
       "      outputDiv = document.getElementById(\"altair-viz-ae20404be2734a0d9cdf8f7d33cdca6e\");\n",
       "    }\n",
       "    const paths = {\n",
       "      \"vega\": \"https://cdn.jsdelivr.net/npm//vega@5?noext\",\n",
       "      \"vega-lib\": \"https://cdn.jsdelivr.net/npm//vega-lib?noext\",\n",
       "      \"vega-lite\": \"https://cdn.jsdelivr.net/npm//vega-lite@4.17.0?noext\",\n",
       "      \"vega-embed\": \"https://cdn.jsdelivr.net/npm//vega-embed@6?noext\",\n",
       "    };\n",
       "\n",
       "    function maybeLoadScript(lib, version) {\n",
       "      var key = `${lib.replace(\"-\", \"\")}_version`;\n",
       "      return (VEGA_DEBUG[key] == version) ?\n",
       "        Promise.resolve(paths[lib]) :\n",
       "        new Promise(function(resolve, reject) {\n",
       "          var s = document.createElement('script');\n",
       "          document.getElementsByTagName(\"head\")[0].appendChild(s);\n",
       "          s.async = true;\n",
       "          s.onload = () => {\n",
       "            VEGA_DEBUG[key] = version;\n",
       "            return resolve(paths[lib]);\n",
       "          };\n",
       "          s.onerror = () => reject(`Error loading script: ${paths[lib]}`);\n",
       "          s.src = paths[lib];\n",
       "        });\n",
       "    }\n",
       "\n",
       "    function showError(err) {\n",
       "      outputDiv.innerHTML = `<div class=\"error\" style=\"color:red;\">${err}</div>`;\n",
       "      throw err;\n",
       "    }\n",
       "\n",
       "    function displayChart(vegaEmbed) {\n",
       "      vegaEmbed(outputDiv, spec, embedOpt)\n",
       "        .catch(err => showError(`Javascript Error: ${err.message}<br>This usually means there's a typo in your chart specification. See the javascript console for the full traceback.`));\n",
       "    }\n",
       "\n",
       "    if(typeof define === \"function\" && define.amd) {\n",
       "      requirejs.config({paths});\n",
       "      require([\"vega-embed\"], displayChart, err => showError(`Error loading script: ${err.message}`));\n",
       "    } else {\n",
       "      maybeLoadScript(\"vega\", \"5\")\n",
       "        .then(() => maybeLoadScript(\"vega-lite\", \"4.17.0\"))\n",
       "        .then(() => maybeLoadScript(\"vega-embed\", \"6\"))\n",
       "        .catch(showError)\n",
       "        .then(() => displayChart(vegaEmbed));\n",
       "    }\n",
       "  })({\"config\": {\"view\": {\"continuousWidth\": 400, \"continuousHeight\": 300}}, \"vconcat\": [{\"mark\": \"circle\", \"encoding\": {\"color\": {\"field\": \"season\", \"type\": \"nominal\"}, \"x\": {\"field\": \"longitude\", \"scale\": {\"zero\": false}, \"type\": \"quantitative\"}, \"y\": {\"field\": \"latitude\", \"scale\": {\"zero\": false}, \"type\": \"quantitative\"}}, \"height\": 300, \"selection\": {\"selector007\": {\"type\": \"interval\"}}, \"width\": 400}, {\"mark\": \"bar\", \"encoding\": {\"color\": {\"field\": \"season\", \"type\": \"nominal\"}, \"x\": {\"aggregate\": \"count\", \"type\": \"quantitative\"}, \"y\": {\"field\": \"season\", \"type\": \"nominal\"}}, \"height\": 100, \"transform\": [{\"filter\": {\"selection\": \"selector007\"}}], \"width\": 400}], \"data\": {\"url\": \"https://raw.githubusercontent.com/UIUC-iSchool-DataViz/is445_bcubcg_fall2022/main/data/bfro_reports_fall2022.csv\"}, \"title\": \"Bigfoot Sightings by Season\", \"$schema\": \"https://vega.github.io/schema/vega-lite/v4.17.0.json\"}, {\"mode\": \"vega-lite\"});\n",
       "</script>"
      ],
      "text/plain": [
       "alt.VConcatChart(...)"
      ]
     },
     "execution_count": 115,
     "metadata": {},
     "output_type": "execute_result"
    }
   ],
   "source": [
    "bigfoot_dash = alt.vconcat(scatter, bar, title='Bigfoot Sightings by Season')\n",
    "bigfoot_dash"
   ]
  },
  {
   "cell_type": "code",
   "execution_count": 118,
   "id": "638336be",
   "metadata": {},
   "outputs": [],
   "source": [
    "jekyllDir = ('C:/Users/emory/OneDrive/Desktop/data viz/ebrigden.github.io/assets/json')"
   ]
  },
  {
   "cell_type": "code",
   "execution_count": 119,
   "id": "e7378eec",
   "metadata": {},
   "outputs": [],
   "source": [
    "bigfoot_dash.save(jekyllDir+'/bigfoot_dash.json')"
   ]
  },
  {
   "cell_type": "code",
   "execution_count": null,
   "id": "751a3ace",
   "metadata": {},
   "outputs": [],
   "source": []
  }
 ],
 "metadata": {
  "kernelspec": {
   "display_name": "Python 3 (ipykernel)",
   "language": "python",
   "name": "python3"
  },
  "language_info": {
   "codemirror_mode": {
    "name": "ipython",
    "version": 3
   },
   "file_extension": ".py",
   "mimetype": "text/x-python",
   "name": "python",
   "nbconvert_exporter": "python",
   "pygments_lexer": "ipython3",
   "version": "3.7.12"
  }
 },
 "nbformat": 4,
 "nbformat_minor": 5
}
